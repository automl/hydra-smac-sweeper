{
  "cells": [
    {
      "cell_type": "markdown",
      "metadata": {},
      "source": [
        "\n# Branin\n"
      ]
    },
    {
      "cell_type": "code",
      "execution_count": null,
      "metadata": {
        "collapsed": false
      },
      "outputs": [],
      "source": [
        "import hydra\nimport numpy as np\nfrom omegaconf import DictConfig\n\n__copyright__ = \"Copyright 2022, AutoML.org Freiburg-Hannover\"\n__license__ = \"3-clause BSD\"\n\n\n@hydra.main(config_path=\"configs\", config_name=\"branin\", version_base=\"1.1\")\ndef branin(cfg: DictConfig):\n    x0 = cfg.x0\n    x1 = cfg.x1\n    a = 1.0\n    b = 5.1 / (4.0 * np.pi**2)\n    c = 5.0 / np.pi\n    r = 6.0\n    s = 10.0\n    t = 1.0 / (8.0 * np.pi)\n    ret = a * (x1 - b * x0**2 + c * x0 - r) ** 2 + s * (1 - t) * np.cos(x0) + s\n\n    return ret\n\n\nif __name__ == \"__main__\":\n    branin()"
      ]
    }
  ],
  "metadata": {
    "kernelspec": {
      "display_name": "Python 3",
      "language": "python",
      "name": "python3"
    },
    "language_info": {
      "codemirror_mode": {
        "name": "ipython",
        "version": 3
      },
      "file_extension": ".py",
      "mimetype": "text/x-python",
      "name": "python",
      "nbconvert_exporter": "python",
      "pygments_lexer": "ipython3",
      "version": "3.8.18"
    }
  },
  "nbformat": 4,
  "nbformat_minor": 0
}